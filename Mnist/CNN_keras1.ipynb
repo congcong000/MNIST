{
 "cells": [
  {
   "cell_type": "code",
   "execution_count": 1,
   "metadata": {},
   "outputs": [
    {
     "name": "stderr",
     "output_type": "stream",
     "text": [
      "Using TensorFlow backend.\n"
     ]
    }
   ],
   "source": [
    "import tensorflow as tf\n",
    "import pandas as pd\n",
    "import numpy as np\n",
    "from keras.models import Sequential, load_model\n",
    "from keras.layers import Dense, Conv2D, Activation, MaxPool2D, Flatten, Dropout\n",
    "from keras.callbacks import EarlyStopping\n",
    "from keras.optimizers import adam\n",
    "from matplotlib import pyplot as plt"
   ]
  },
  {
   "cell_type": "code",
   "execution_count": 2,
   "metadata": {},
   "outputs": [],
   "source": [
    "def loadTrainData():\n",
    "    train_data = pd.read_csv('./digit_train.csv')\n",
    "    x_train = train_data.values[:, 1:]\n",
    "    y_train = train_data.values[:, 0]\n",
    "    x_train = x_train.reshape(x_train.shape[0], 28, 28, 1)\n",
    "    x_train = x_train/255\n",
    "    y = np.zeros((y_train.shape[0], 10))\n",
    "    for i in range(y_train.shape[0]):\n",
    "        y[i][y_train[i]] = 1\n",
    "    return x_train, y"
   ]
  },
  {
   "cell_type": "code",
   "execution_count": 3,
   "metadata": {},
   "outputs": [],
   "source": [
    "def loadTestData():\n",
    "    test_data = pd.read_csv('./digit_test.csv')\n",
    "    x_test = test_data.values[:]\n",
    "    x_test = x_test.reshape(x_test.shape[0], 28, 28, 1)\n",
    "    x_test = x_test/255\n",
    "    return x_test\n",
    "    "
   ]
  },
  {
   "cell_type": "code",
   "execution_count": 4,
   "metadata": {},
   "outputs": [],
   "source": [
    "# 利用keras训练模型\n",
    "def train_model(x_train, y_train):\n",
    "    model = Sequential()\n",
    "    \n",
    "    model.add(Conv2D(input_shape=(28, 28, 1), kernel_size=(3, 3), filters=32, padding='same', activation='relu'))\n",
    "    model.add(Conv2D(kernel_size=(3, 3), filters=32, padding='same', activation='relu'))\n",
    "    model.add(MaxPool2D(pool_size=(2, 2), strides=(2, 2)))\n",
    "    model.add(Dropout(0.25))\n",
    "    model.add(Flatten())\n",
    "    model.add(Dense(128, activation='relu'))\n",
    "    model.add(Dropout(0.5))\n",
    "    model.add(Dense(10, activation='softmax'))\n",
    "    \n",
    "    model.compile(loss='categorical_crossentropy', optimizer='adam', metrics=['accuracy'])\n",
    "    early_stopping = EarlyStopping(monitor='acc', patience=2)\n",
    "    model.fit(x_train, y_train, epochs=30, batch_size=3000, validation_split=0.2, callbacks=[early_stopping])\n",
    "    \n",
    "    model.save('./my_model1.h5')\n"
   ]
  },
  {
   "cell_type": "code",
   "execution_count": 5,
   "metadata": {},
   "outputs": [],
   "source": [
    "def predict():\n",
    "    x_test = loadTestData()\n",
    "    model_predict = load_model('./my_model1.h5')\n",
    "    result = model_predict.predict(x_test, batch_size=1000)\n",
    "    final_result = np.zeros(result.shape[0])\n",
    "    for i in range(result.shape[0]):\n",
    "        for j in range(result.shape[1]):\n",
    "            if result[i][j] > 0.5:\n",
    "                final_result[i] = j\n",
    "    return final_result"
   ]
  },
  {
   "cell_type": "code",
   "execution_count": 6,
   "metadata": {},
   "outputs": [],
   "source": [
    "def strat_train():\n",
    "    x_train, y_train = loadTrainData()\n",
    "    train_model(x_train, y_train)"
   ]
  },
  {
   "cell_type": "code",
   "execution_count": 7,
   "metadata": {},
   "outputs": [],
   "source": [
    "def save_result(final_result):\n",
    "    print(final_result.shape[0])\n",
    "    x = range(1, final_result.shape[0]+1)\n",
    "    DataFrame = pd.DataFrame({'ImageId': x, 'Label': final_result.astype(int)})\n",
    "    DataFrame.to_csv('result.csv', index=False, sep=',')\n",
    "    "
   ]
  },
  {
   "cell_type": "code",
   "execution_count": 8,
   "metadata": {},
   "outputs": [
    {
     "name": "stdout",
     "output_type": "stream",
     "text": [
      "Train on 33600 samples, validate on 8400 samples\n",
      "Epoch 1/30\n",
      "33600/33600 [==============================] - 38s 1ms/step - loss: 1.6595 - acc: 0.5198 - val_loss: 0.6188 - val_acc: 0.8176\n",
      "Epoch 2/30\n",
      "33600/33600 [==============================] - 33s 988us/step - loss: 0.6186 - acc: 0.7978 - val_loss: 0.3381 - val_acc: 0.9042\n",
      "Epoch 3/30\n",
      "33600/33600 [==============================] - 33s 979us/step - loss: 0.4054 - acc: 0.8741 - val_loss: 0.2445 - val_acc: 0.9292\n",
      "Epoch 4/30\n",
      "33600/33600 [==============================] - 33s 980us/step - loss: 0.3098 - acc: 0.9066 - val_loss: 0.1899 - val_acc: 0.9440\n",
      "Epoch 5/30\n",
      "33600/33600 [==============================] - 35s 1ms/step - loss: 0.2518 - acc: 0.9242 - val_loss: 0.1508 - val_acc: 0.9558\n",
      "Epoch 6/30\n",
      "33600/33600 [==============================] - 37s 1ms/step - loss: 0.2071 - acc: 0.9390 - val_loss: 0.1239 - val_acc: 0.9624\n",
      "Epoch 7/30\n",
      "33600/33600 [==============================] - 33s 983us/step - loss: 0.1739 - acc: 0.9487 - val_loss: 0.1053 - val_acc: 0.9675\n",
      "Epoch 8/30\n",
      "33600/33600 [==============================] - 33s 981us/step - loss: 0.1485 - acc: 0.9564 - val_loss: 0.0911 - val_acc: 0.9720\n",
      "Epoch 9/30\n",
      "33600/33600 [==============================] - 33s 982us/step - loss: 0.1249 - acc: 0.9636 - val_loss: 0.0777 - val_acc: 0.9764\n",
      "Epoch 10/30\n",
      "33600/33600 [==============================] - 33s 980us/step - loss: 0.1153 - acc: 0.9667 - val_loss: 0.0726 - val_acc: 0.9774\n",
      "Epoch 11/30\n",
      "33600/33600 [==============================] - 33s 981us/step - loss: 0.1042 - acc: 0.9703 - val_loss: 0.0654 - val_acc: 0.9794\n",
      "Epoch 12/30\n",
      "33600/33600 [==============================] - 33s 979us/step - loss: 0.0948 - acc: 0.9721 - val_loss: 0.0585 - val_acc: 0.9817\n",
      "Epoch 13/30\n",
      "33600/33600 [==============================] - 34s 1ms/step - loss: 0.0880 - acc: 0.9740 - val_loss: 0.0559 - val_acc: 0.9819\n",
      "Epoch 14/30\n",
      "33600/33600 [==============================] - 37s 1ms/step - loss: 0.0821 - acc: 0.9751 - val_loss: 0.0540 - val_acc: 0.9821\n",
      "Epoch 15/30\n",
      "33600/33600 [==============================] - 42s 1ms/step - loss: 0.0777 - acc: 0.9764 - val_loss: 0.0503 - val_acc: 0.9835\n",
      "Epoch 16/30\n",
      "33600/33600 [==============================] - 40s 1ms/step - loss: 0.0705 - acc: 0.9796 - val_loss: 0.0468 - val_acc: 0.9848\n",
      "Epoch 17/30\n",
      "33600/33600 [==============================] - 41s 1ms/step - loss: 0.0674 - acc: 0.9805 - val_loss: 0.0466 - val_acc: 0.9862\n",
      "Epoch 18/30\n",
      "33600/33600 [==============================] - 39s 1ms/step - loss: 0.0631 - acc: 0.9811 - val_loss: 0.0443 - val_acc: 0.9865\n",
      "Epoch 19/30\n",
      "33600/33600 [==============================] - 40s 1ms/step - loss: 0.0599 - acc: 0.9817 - val_loss: 0.0434 - val_acc: 0.9856\n",
      "Epoch 20/30\n",
      "33600/33600 [==============================] - 39s 1ms/step - loss: 0.0591 - acc: 0.9831 - val_loss: 0.0414 - val_acc: 0.9863\n",
      "Epoch 21/30\n",
      "33600/33600 [==============================] - 37s 1ms/step - loss: 0.0557 - acc: 0.9833 - val_loss: 0.0408 - val_acc: 0.9860\n",
      "Epoch 22/30\n",
      "33600/33600 [==============================] - 36s 1ms/step - loss: 0.0542 - acc: 0.9834 - val_loss: 0.0402 - val_acc: 0.9868\n",
      "Epoch 23/30\n",
      "33600/33600 [==============================] - 38s 1ms/step - loss: 0.0500 - acc: 0.9842 - val_loss: 0.0415 - val_acc: 0.9870\n",
      "Epoch 24/30\n",
      "33600/33600 [==============================] - 41s 1ms/step - loss: 0.0482 - acc: 0.9845 - val_loss: 0.0400 - val_acc: 0.9867\n",
      "Epoch 25/30\n",
      "33600/33600 [==============================] - 40s 1ms/step - loss: 0.0458 - acc: 0.9856 - val_loss: 0.0400 - val_acc: 0.9865\n",
      "Epoch 26/30\n",
      "33600/33600 [==============================] - 45s 1ms/step - loss: 0.0420 - acc: 0.9875 - val_loss: 0.0369 - val_acc: 0.9885\n",
      "Epoch 27/30\n",
      "33600/33600 [==============================] - 40s 1ms/step - loss: 0.0436 - acc: 0.9865 - val_loss: 0.0375 - val_acc: 0.9870\n",
      "Epoch 28/30\n",
      "33600/33600 [==============================] - 37s 1ms/step - loss: 0.0397 - acc: 0.9882 - val_loss: 0.0378 - val_acc: 0.9879\n",
      "Epoch 29/30\n",
      "33600/33600 [==============================] - 36s 1ms/step - loss: 0.0403 - acc: 0.9877 - val_loss: 0.0383 - val_acc: 0.9874\n",
      "Epoch 30/30\n",
      "33600/33600 [==============================] - 40s 1ms/step - loss: 0.0375 - acc: 0.9889 - val_loss: 0.0373 - val_acc: 0.9882\n",
      "28000\n",
      "Finished\n"
     ]
    }
   ],
   "source": [
    "strat_train()\n",
    "final_result = predict()\n",
    "save_result(final_result)\n",
    "print('Finished')"
   ]
  },
  {
   "cell_type": "code",
   "execution_count": null,
   "metadata": {},
   "outputs": [],
   "source": []
  }
 ],
 "metadata": {
  "kernelspec": {
   "display_name": "Python 3",
   "language": "python",
   "name": "python3"
  },
  "language_info": {
   "codemirror_mode": {
    "name": "ipython",
    "version": 3
   },
   "file_extension": ".py",
   "mimetype": "text/x-python",
   "name": "python",
   "nbconvert_exporter": "python",
   "pygments_lexer": "ipython3",
   "version": "3.7.1"
  }
 },
 "nbformat": 4,
 "nbformat_minor": 2
}
