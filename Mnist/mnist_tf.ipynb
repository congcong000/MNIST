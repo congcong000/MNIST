{
 "cells": [
  {
   "cell_type": "code",
   "execution_count": 1,
   "metadata": {},
   "outputs": [],
   "source": [
    "import numpy as np\n",
    "import pandas as pd\n",
    "import tensorflow as tf\n",
    "import matplotlib.pyplot as plt\n",
    "%matplotlib inline"
   ]
  },
  {
   "cell_type": "code",
   "execution_count": 2,
   "metadata": {},
   "outputs": [],
   "source": [
    "# dataset params\n",
    "LABELS = 10\n",
    "WIDTH = 28\n",
    "CHANNELS = 1\n",
    "\n",
    "VALID = 10000\n",
    "\n",
    "# network\n",
    "STEPS = 1000\n",
    "BATCH = 100\n",
    "PATCH = 5\n",
    "DEPTH = 9\n",
    "HIDDEN = 100\n",
    "\n",
    "# learning rate\n",
    "LR = 0.001"
   ]
  },
  {
   "cell_type": "code",
   "execution_count": 3,
   "metadata": {},
   "outputs": [],
   "source": [
    "# import training data\n",
    "df_train = pd.read_csv(\"./train.csv\")\n",
    "df_test = pd.read_csv(\"./test.csv\")"
   ]
  },
  {
   "cell_type": "code",
   "execution_count": 4,
   "metadata": {},
   "outputs": [],
   "source": [
    "X_train = df_train.values[:,1:]\n",
    "Y_train = df_train.values[:,0]\n",
    "test = df_test.values[:]"
   ]
  },
  {
   "cell_type": "markdown",
   "metadata": {},
   "source": [
    "Data Preprocessing"
   ]
  },
  {
   "cell_type": "code",
   "execution_count": 5,
   "metadata": {},
   "outputs": [],
   "source": [
    "# normalization\n",
    "X_train = X_train/255.0\n",
    "test = test/255.0"
   ]
  },
  {
   "cell_type": "code",
   "execution_count": 6,
   "metadata": {},
   "outputs": [],
   "source": [
    "# reshape\n",
    "X_train = X_train.reshape(X_train.shape[0], 28, 28, 1)\n",
    "test = test.reshape(test.shape[0], 28, 28, 1)"
   ]
  },
  {
   "cell_type": "code",
   "execution_count": 7,
   "metadata": {},
   "outputs": [],
   "source": [
    "# label encoding\n",
    "from sklearn.preprocessing import OneHotEncoder, LabelEncoder"
   ]
  },
  {
   "cell_type": "code",
   "execution_count": 8,
   "metadata": {},
   "outputs": [],
   "source": [
    "Y_train = LabelEncoder().fit_transform(Y_train)[:,None]"
   ]
  },
  {
   "cell_type": "code",
   "execution_count": 9,
   "metadata": {},
   "outputs": [],
   "source": [
    "Y_train = OneHotEncoder().fit_transform(Y_train).todense() # todense means to convert to a matrix"
   ]
  },
  {
   "cell_type": "code",
   "execution_count": 10,
   "metadata": {},
   "outputs": [],
   "source": [
    "# split training and validation set\n",
    "random_seed = 1\n",
    "from sklearn.model_selection import train_test_split\n",
    "X_train, X_val, Y_train, Y_val = train_test_split(X_train, Y_train, test_size=0.2, random_state=random_seed)"
   ]
  },
  {
   "cell_type": "code",
   "execution_count": 11,
   "metadata": {},
   "outputs": [
    {
     "name": "stdout",
     "output_type": "stream",
     "text": [
      "Train data shape: (33600, 28, 28, 1)\n",
      "Validation data shape: (8400, 28, 28, 1)\n"
     ]
    }
   ],
   "source": [
    "print(\"Train data shape: \" + str(X_train.shape))\n",
    "print(\"Validation data shape: \" + str(X_val.shape))"
   ]
  },
  {
   "cell_type": "code",
   "execution_count": 12,
   "metadata": {},
   "outputs": [],
   "source": [
    "tf_train = tf.placeholder(tf.float32, shape=(None, WIDTH, WIDTH, CHANNELS))\n",
    "tf_labels = tf.placeholder(tf.float32, shape=(None, LABELS)) "
   ]
  },
  {
   "cell_type": "code",
   "execution_count": 13,
   "metadata": {},
   "outputs": [],
   "source": [
    "def weights(shape):\n",
    "    initial = tf.truncated_normal(shape, stddev=0.1)\n",
    "    return tf.Variable(initial)"
   ]
  },
  {
   "cell_type": "code",
   "execution_count": 14,
   "metadata": {},
   "outputs": [],
   "source": [
    "def bias(shape):\n",
    "    initial = tf.constant(0.1, shape=shape)\n",
    "    return tf.Variable(initial)"
   ]
  },
  {
   "cell_type": "code",
   "execution_count": 15,
   "metadata": {},
   "outputs": [],
   "source": [
    "def conv2d(x, W):\n",
    "    return tf.nn.conv2d(input=x, filter=W, strides=[1,1,1,1], padding='SAME')"
   ]
  },
  {
   "cell_type": "code",
   "execution_count": 16,
   "metadata": {},
   "outputs": [],
   "source": [
    "def max_pool(x):\n",
    "    return tf.nn.max_pool(x, ksize=[1,2,2,1], strides=[1,2,2,1], padding=\"SAME\")"
   ]
  },
  {
   "cell_type": "code",
   "execution_count": 17,
   "metadata": {},
   "outputs": [],
   "source": [
    "def lenet(data):\n",
    "    # 1st layer: conv+relu+max_pool\n",
    "    w1 = weights([5,5,1,20])\n",
    "    b1 = bias([20])\n",
    "    h1 = tf.nn.relu(conv2d(data, w1) + b1)\n",
    "    pool1 = max_pool(h1)\n",
    "    \n",
    "    # 2nd layer: conv+relu+max_pool\n",
    "    w2 = weights([5,5,20,50])\n",
    "    b2 = bias([50])\n",
    "    h2 = tf.nn.relu(conv2d(pool1, w2) + b2)\n",
    "    pool2 = max_pool(h2)\n",
    "    flat = tf.reshape(pool2, [-1, 7*7*50])\n",
    "    \n",
    "    # full connection\n",
    "    w3 = weights([7*7*50, 120])\n",
    "    b3 = bias([120])\n",
    "    h3 = tf.nn.relu(tf.matmul(flat, w3) + b3)\n",
    "    \n",
    "    w4 = weights([120, 84])\n",
    "    b4 = bias([84])\n",
    "    h4 = tf.nn.relu(tf.matmul(h3, w4) + b4)\n",
    "    \n",
    "    w5 = weights([84, 10])\n",
    "    b5 = bias([10])\n",
    "    return tf.nn.softmax(tf.matmul(h4, w5) + b5)\n",
    "\n",
    "pred = lenet(tf_train)"
   ]
  },
  {
   "cell_type": "code",
   "execution_count": 21,
   "metadata": {},
   "outputs": [],
   "source": [
    "# using the categorical cross entropy loss for training the model\n",
    "loss = tf.reduce_mean(tf.nn.softmax_cross_entropy_with_logits(logits=lenet(tf_train), labels=tf_labels))\n",
    "correction = tf.equal(tf.argmax(pred, 1), tf.argmax(tf_labels, 1))\n",
    "accuracy = tf.reduce_mean(tf.cast(correction, \"float\"))\n",
    "\n",
    "optimizer = tf.train.RMSPropOptimizer(LR)\n",
    "train_step = optimizer.minimize(loss)"
   ]
  },
  {
   "cell_type": "code",
   "execution_count": 22,
   "metadata": {},
   "outputs": [
    {
     "name": "stdout",
     "output_type": "stream",
     "text": [
      "Start Train\n",
      "Step: 500\n",
      "step 500, valid loss: 1.513025, valid accuracy: 0.045714\n",
      "Step: 1000\n",
      "step 1000, valid loss: 1.490313, valid accuracy: 0.045714\n",
      "Step: 1500\n",
      "step 1500, valid loss: 1.477945, valid accuracy: 0.045714\n",
      "Step: 2000\n",
      "step 2000, valid loss: 1.478392, valid accuracy: 0.045714\n",
      "Step: 2500\n",
      "step 2500, valid loss: 1.479476, valid accuracy: 0.045714\n",
      "Step: 3000\n",
      "step 3000, valid loss: 1.475123, valid accuracy: 0.045714\n",
      "Step: 3500\n",
      "step 3500, valid loss: 1.474865, valid accuracy: 0.045714\n",
      "Step: 4000\n",
      "step 4000, valid loss: 1.476482, valid accuracy: 0.045714\n",
      "Step: 4500\n",
      "step 4500, valid loss: 1.476001, valid accuracy: 0.045714\n",
      "Step: 5000\n",
      "step 5000, valid loss: 1.478578, valid accuracy: 0.045714\n"
     ]
    }
   ],
   "source": [
    "# starting train\n",
    "init = tf.global_variables_initializer()\n",
    "session = tf.Session()\n",
    "session.run(init)\n",
    "\n",
    "from sklearn.model_selection import ShuffleSplit\n",
    "#ss = ShuffleSplit(n_splits=STEPS, train_size=BATCH)\n",
    "ss = ShuffleSplit(n_splits=5000, train_size=BATCH)\n",
    "ss.get_n_splits(X_train, Y_train)\n",
    "history = [(0, np.nan, 10)]\n",
    "\n",
    "print(\"Start Train\")\n",
    "\n",
    "\n",
    "\n",
    "for step, (idx, _) in enumerate(ss.split(X_train, Y_train), start=1):\n",
    "    fd = {tf_train: X_train[idx], tf_labels: Y_train[idx]}\n",
    "    session.run(train_step, feed_dict=fd)\n",
    "    if step%500 == 0:\n",
    "        print(\"Step: %d\" % step)\n",
    "        fd = {tf_train: X_val, tf_labels: Y_val}\n",
    "        valid_loss, valid_acc = session.run([loss, accuracy], feed_dict=fd)\n",
    "        history.append((step, valid_loss, valid_acc))\n",
    "        print(\"step %d, valid loss: %f, valid accuracy: %f\" %(step, valid_loss, valid_acc))"
   ]
  },
  {
   "cell_type": "code",
   "execution_count": null,
   "metadata": {},
   "outputs": [],
   "source": [
    "        "
   ]
  }
 ],
 "metadata": {
  "kernelspec": {
   "display_name": "Python 3",
   "language": "python",
   "name": "python3"
  },
  "language_info": {
   "codemirror_mode": {
    "name": "ipython",
    "version": 3
   },
   "file_extension": ".py",
   "mimetype": "text/x-python",
   "name": "python",
   "nbconvert_exporter": "python",
   "pygments_lexer": "ipython3",
   "version": "3.7.1"
  }
 },
 "nbformat": 4,
 "nbformat_minor": 2
}
