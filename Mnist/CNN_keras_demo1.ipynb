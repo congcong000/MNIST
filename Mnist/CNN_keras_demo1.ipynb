{
 "cells": [
  {
   "cell_type": "code",
   "execution_count": 1,
   "metadata": {},
   "outputs": [
    {
     "name": "stderr",
     "output_type": "stream",
     "text": [
      "Using TensorFlow backend.\n"
     ]
    }
   ],
   "source": [
    "import pandas as pd\n",
    "import numpy as np\n",
    "import matplotlib.pyplot as plt\n",
    "import seaborn as sns\n",
    "\n",
    "from sklearn.model_selection import train_test_split\n",
    "from sklearn.metrics import confusion_matrix\n",
    "\n",
    "from keras.models import Sequential\n",
    "from keras.layers import Conv2D, Lambda, MaxPooling2D\n",
    "from keras.layers import Dense, Dropout, Flatten\n",
    "\n",
    "from keras.layers.normalization import BatchNormalization\n",
    "\n",
    "from keras.preprocessing.image import ImageDataGenerator\n",
    "\n",
    "from keras.utils.np_utils import to_categorical"
   ]
  },
  {
   "cell_type": "code",
   "execution_count": 2,
   "metadata": {},
   "outputs": [],
   "source": [
    "train = pd.read_csv(\"./train.csv\")"
   ]
  },
  {
   "cell_type": "code",
   "execution_count": 3,
   "metadata": {},
   "outputs": [],
   "source": [
    "test = pd.read_csv(\"./test.csv\")"
   ]
  },
  {
   "cell_type": "code",
   "execution_count": 4,
   "metadata": {},
   "outputs": [
    {
     "name": "stdout",
     "output_type": "stream",
     "text": [
      "Training data size: (42000, 785)\n"
     ]
    }
   ],
   "source": [
    "print(\"Training data size: \" + str(train.shape))"
   ]
  },
  {
   "cell_type": "code",
   "execution_count": 5,
   "metadata": {},
   "outputs": [
    {
     "name": "stdout",
     "output_type": "stream",
     "text": [
      "Testing data size: (28000, 784)\n"
     ]
    }
   ],
   "source": [
    "print(\"Testing data size: \" + str(test.shape))"
   ]
  },
  {
   "cell_type": "code",
   "execution_count": 8,
   "metadata": {},
   "outputs": [],
   "source": [
    "X = train.values[:, 1:]\n",
    "y = train[\"label\"].values\n",
    "\n",
    "test_x = test.values"
   ]
  },
  {
   "cell_type": "code",
   "execution_count": 9,
   "metadata": {},
   "outputs": [],
   "source": [
    "X = X/255.0\n",
    "test_x = test_x/255.0"
   ]
  },
  {
   "cell_type": "code",
   "execution_count": 10,
   "metadata": {},
   "outputs": [],
   "source": [
    "X = X.reshape(-1, 28, 28, 1)\n",
    "test_x = test_x.reshape(-1, 28, 28, 1)"
   ]
  },
  {
   "cell_type": "code",
   "execution_count": 12,
   "metadata": {},
   "outputs": [
    {
     "name": "stdout",
     "output_type": "stream",
     "text": [
      "label size :(42000, 10)\n"
     ]
    }
   ],
   "source": [
    "# label encoding\n",
    "y = to_categorical(y)\n",
    "\n",
    "print(\"label size :\" + str(y.shape))"
   ]
  },
  {
   "cell_type": "code",
   "execution_count": 13,
   "metadata": {},
   "outputs": [],
   "source": [
    "X_train, X_test, Y_train, Y_test = train_test_split(X, y, test_size=0.2, random_state=0)"
   ]
  },
  {
   "cell_type": "code",
   "execution_count": 14,
   "metadata": {},
   "outputs": [
    {
     "data": {
      "text/plain": [
       "((33600, 28, 28, 1), (8400, 28, 28, 1), (33600, 10), (8400, 10))"
      ]
     },
     "execution_count": 14,
     "metadata": {},
     "output_type": "execute_result"
    }
   ],
   "source": [
    "X_train.shape, X_test.shape, Y_train.shape, Y_test.shape"
   ]
  },
  {
   "cell_type": "code",
   "execution_count": 17,
   "metadata": {},
   "outputs": [
    {
     "data": {
      "image/png": "[encoded data removed]",
      "text/plain": [
       "<Figure size 1440x720 with 4 Axes>"
      ]
     },
     "metadata": {
      "needs_background": "light"
     },
     "output_type": "display_data"
    }
   ],
   "source": [
    "# data visualization\n",
    "X_train__ = X_train.reshape(X_train.shape[0], 28, 28)\n",
    "\n",
    "fig, axis = plt.subplots(1, 4, figsize=(20, 10))\n",
    "for i, ax in enumerate(axis.flat):\n",
    "    ax.imshow(X_train__[i], cmap='binary')\n",
    "    digit = Y_train[i].argmax()\n",
    "    ax.set(title='Real Number is %s' %digit)"
   ]
  },
  {
   "cell_type": "code",
   "execution_count": 18,
   "metadata": {},
   "outputs": [],
   "source": [
    "# Normalization\n",
    "mean = np.mean(X_train)"
   ]
  },
  {
   "cell_type": "code",
   "execution_count": 19,
   "metadata": {},
   "outputs": [],
   "source": [
    "std = np.std(X_train)"
   ]
  },
  {
   "cell_type": "code",
   "execution_count": 20,
   "metadata": {},
   "outputs": [],
   "source": [
    "def standardize(x):\n",
    "    return (x-mean)/std"
   ]
  },
  {
   "cell_type": "code",
   "execution_count": 21,
   "metadata": {},
   "outputs": [],
   "source": [
    "epochs = 60\n",
    "batch_size = 64"
   ]
  },
  {
   "cell_type": "code",
   "execution_count": 25,
   "metadata": {},
   "outputs": [
    {
     "name": "stdout",
     "output_type": "stream",
     "text": [
      "WARNING:tensorflow:From /Users/congcong/anaconda3/lib/python3.7/site-packages/keras/optimizers.py:790: The name tf.train.Optimizer is deprecated. Please use tf.compat.v1.train.Optimizer instead.\n",
      "\n"
     ]
    }
   ],
   "source": [
    "model = Sequential()\n",
    "\n",
    "model.add(Conv2D(filters=64, kernel_size=(3,3), activation='relu', input_shape=(28, 28, 1)))\n",
    "model.add(Conv2D(filters=64, kernel_size=(3,3), activation='relu'))\n",
    "\n",
    "model.add(MaxPooling2D(pool_size=(2,2)))\n",
    "model.add(BatchNormalization())\n",
    "\n",
    "model.add(Conv2D(filters=128, kernel_size=(3,3), activation='relu'))\n",
    "model.add(Conv2D(filters=128, kernel_size=(3,3), activation='relu'))\n",
    "\n",
    "model.add(MaxPooling2D(pool_size=(2,2)))\n",
    "model.add(BatchNormalization())\n",
    "\n",
    "model.add(Conv2D(filters=256, kernel_size=(3,3), activation='relu'))\n",
    "\n",
    "model.add(MaxPooling2D(pool_size=(2,2)))\n",
    "\n",
    "model.add(Flatten())\n",
    "\n",
    "model.add(BatchNormalization())\n",
    "\n",
    "model.add(Dense(512, activation='relu'))\n",
    "\n",
    "model.add(Dense(10, activation='softmax'))\n",
    "\n",
    "model.compile(loss='categorical_crossentropy', optimizer='adam', metrics=['accuracy'])\n",
    "          "
   ]
  },
  {
   "cell_type": "code",
   "execution_count": 28,
   "metadata": {},
   "outputs": [],
   "source": [
    "datagen = ImageDataGenerator(\n",
    "    featurewise_center=False,\n",
    "    samplewise_center=False,\n",
    "    featurewise_std_normalization=False,\n",
    "    samplewise_std_normalization=False,\n",
    "    zca_whitening=False,\n",
    "    rotation_range=10,\n",
    "    zoom_range=0.1,\n",
    "    width_shift_range=0.1,\n",
    "    height_shift_range=0.1,\n",
    "    horizontal_flip=False,\n",
    "    vertical_flip=False)"
   ]
  },
  {
   "cell_type": "code",
   "execution_count": 30,
   "metadata": {},
   "outputs": [],
   "source": [
    "train_gen = datagen.flow(X_train, Y_train, batch_size=batch_size)\n",
    "test_gen = datagen.flow(X_test, Y_test, batch_size=batch_size)"
   ]
  },
  {
   "cell_type": "code",
   "execution_count": 31,
   "metadata": {},
   "outputs": [
    {
     "name": "stdout",
     "output_type": "stream",
     "text": [
      "WARNING:tensorflow:From /Users/congcong/anaconda3/lib/python3.7/site-packages/tensorflow/python/ops/math_grad.py:1250: add_dispatch_support.<locals>.wrapper (from tensorflow.python.ops.array_ops) is deprecated and will be removed in a future version.\n",
      "Instructions for updating:\n",
      "Use tf.where in 2.0, which has the same broadcast rule as np.where\n",
      "Epoch 1/60\n",
      "525/525 [==============================] - 117s 222ms/step - loss: 0.1632 - acc: 0.9481 - val_loss: 0.0939 - val_acc: 0.9716\n",
      "Epoch 2/60\n",
      "525/525 [==============================] - 113s 216ms/step - loss: 0.0690 - acc: 0.9790 - val_loss: 0.0816 - val_acc: 0.9767\n",
      "Epoch 3/60\n",
      "525/525 [==============================] - 102s 194ms/step - loss: 0.0602 - acc: 0.9817 - val_loss: 0.0569 - val_acc: 0.9826\n",
      "Epoch 4/60\n",
      "525/525 [==============================] - 103s 196ms/step - loss: 0.0487 - acc: 0.9854 - val_loss: 0.0519 - val_acc: 0.9856\n",
      "Epoch 5/60\n",
      "525/525 [==============================] - 104s 199ms/step - loss: 0.0480 - acc: 0.9855 - val_loss: 0.0585 - val_acc: 0.9821\n",
      "Epoch 6/60\n",
      "525/525 [==============================] - 672s 1s/step - loss: 0.0412 - acc: 0.9877 - val_loss: 0.0485 - val_acc: 0.9864\n",
      "Epoch 7/60\n",
      "525/525 [==============================] - 2384s 5s/step - loss: 0.0383 - acc: 0.9886 - val_loss: 0.0450 - val_acc: 0.9882\n",
      "Epoch 8/60\n",
      "525/525 [==============================] - 39281s 75s/step - loss: 0.0371 - acc: 0.9886 - val_loss: 0.0674 - val_acc: 0.9815\n",
      "Epoch 9/60\n",
      "525/525 [==============================] - 113s 215ms/step - loss: 0.0358 - acc: 0.9893 - val_loss: 0.0502 - val_acc: 0.9844\n",
      "Epoch 10/60\n",
      "525/525 [==============================] - 129s 246ms/step - loss: 0.0318 - acc: 0.9899 - val_loss: 0.0577 - val_acc: 0.9837\n",
      "Epoch 11/60\n",
      "525/525 [==============================] - 144s 275ms/step - loss: 0.0270 - acc: 0.9912 - val_loss: 0.0392 - val_acc: 0.9891\n",
      "Epoch 12/60\n",
      "525/525 [==============================] - 155s 295ms/step - loss: 0.0267 - acc: 0.9925 - val_loss: 0.0334 - val_acc: 0.9899\n",
      "Epoch 13/60\n",
      "525/525 [==============================] - 167s 318ms/step - loss: 0.0289 - acc: 0.9907 - val_loss: 0.0393 - val_acc: 0.9892\n",
      "Epoch 14/60\n",
      "525/525 [==============================] - 162s 308ms/step - loss: 0.0253 - acc: 0.9920 - val_loss: 0.0459 - val_acc: 0.9875\n",
      "Epoch 15/60\n",
      "525/525 [==============================] - 162s 309ms/step - loss: 0.0237 - acc: 0.9922 - val_loss: 0.0433 - val_acc: 0.9887\n",
      "Epoch 16/60\n",
      "525/525 [==============================] - 160s 304ms/step - loss: 0.0269 - acc: 0.9917 - val_loss: 0.0312 - val_acc: 0.9906\n",
      "Epoch 17/60\n",
      "525/525 [==============================] - 149s 284ms/step - loss: 0.0221 - acc: 0.9934 - val_loss: 0.0269 - val_acc: 0.9920\n",
      "Epoch 18/60\n",
      "525/525 [==============================] - 160s 304ms/step - loss: 0.0200 - acc: 0.9935 - val_loss: 0.0454 - val_acc: 0.9880\n",
      "Epoch 19/60\n",
      "525/525 [==============================] - 157s 300ms/step - loss: 0.0198 - acc: 0.9941 - val_loss: 0.0370 - val_acc: 0.9893\n",
      "Epoch 20/60\n",
      "525/525 [==============================] - 163s 310ms/step - loss: 0.0220 - acc: 0.9933 - val_loss: 0.0318 - val_acc: 0.9888\n",
      "Epoch 21/60\n",
      "525/525 [==============================] - 148s 281ms/step - loss: 0.0196 - acc: 0.9939 - val_loss: 0.0270 - val_acc: 0.9929\n",
      "Epoch 22/60\n",
      "525/525 [==============================] - 120s 228ms/step - loss: 0.0182 - acc: 0.9944 - val_loss: 0.0271 - val_acc: 0.9922\n",
      "Epoch 23/60\n",
      "525/525 [==============================] - 123s 234ms/step - loss: 0.0170 - acc: 0.9950 - val_loss: 0.0329 - val_acc: 0.9898\n",
      "Epoch 24/60\n",
      "525/525 [==============================] - 125s 238ms/step - loss: 0.0191 - acc: 0.9943 - val_loss: 0.0300 - val_acc: 0.9908\n",
      "Epoch 25/60\n",
      "525/525 [==============================] - 107s 203ms/step - loss: 0.0181 - acc: 0.9948 - val_loss: 0.0330 - val_acc: 0.9888\n",
      "Epoch 26/60\n",
      "525/525 [==============================] - 117s 222ms/step - loss: 0.0153 - acc: 0.9952 - val_loss: 0.0408 - val_acc: 0.9893\n",
      "Epoch 27/60\n",
      "525/525 [==============================] - 107s 204ms/step - loss: 0.0180 - acc: 0.9944 - val_loss: 0.0263 - val_acc: 0.9933\n",
      "Epoch 28/60\n",
      "525/525 [==============================] - 154s 293ms/step - loss: 0.0156 - acc: 0.9951 - val_loss: 0.0439 - val_acc: 0.9882\n",
      "Epoch 29/60\n",
      "525/525 [==============================] - 154s 294ms/step - loss: 0.0134 - acc: 0.9959 - val_loss: 0.0342 - val_acc: 0.9914\n",
      "Epoch 30/60\n",
      "525/525 [==============================] - 145s 277ms/step - loss: 0.0158 - acc: 0.9954 - val_loss: 0.0269 - val_acc: 0.9927\n",
      "Epoch 31/60\n",
      "525/525 [==============================] - 144s 274ms/step - loss: 0.0126 - acc: 0.9960 - val_loss: 0.0285 - val_acc: 0.9929\n",
      "Epoch 32/60\n",
      "525/525 [==============================] - 144s 275ms/step - loss: 0.0119 - acc: 0.9970 - val_loss: 0.0288 - val_acc: 0.9928\n",
      "Epoch 33/60\n",
      "525/525 [==============================] - 149s 284ms/step - loss: 0.0139 - acc: 0.9960 - val_loss: 0.0396 - val_acc: 0.9900\n",
      "Epoch 34/60\n",
      "525/525 [==============================] - 127s 242ms/step - loss: 0.0172 - acc: 0.9948 - val_loss: 0.0214 - val_acc: 0.9945\n",
      "Epoch 35/60\n",
      "525/525 [==============================] - 84581s 161s/step - loss: 0.0129 - acc: 0.9964 - val_loss: 0.0376 - val_acc: 0.9915\n",
      "Epoch 36/60\n",
      "525/525 [==============================] - 123s 234ms/step - loss: 0.0125 - acc: 0.9962 - val_loss: 0.0258 - val_acc: 0.9918\n",
      "Epoch 37/60\n",
      "525/525 [==============================] - 140s 266ms/step - loss: 0.0118 - acc: 0.9965 - val_loss: 0.0241 - val_acc: 0.9939\n",
      "Epoch 38/60\n",
      "525/525 [==============================] - 122s 232ms/step - loss: 0.0112 - acc: 0.9967 - val_loss: 0.0281 - val_acc: 0.9928\n",
      "Epoch 39/60\n",
      "525/525 [==============================] - 121s 230ms/step - loss: 0.0131 - acc: 0.9959 - val_loss: 0.0279 - val_acc: 0.9926\n",
      "Epoch 40/60\n",
      "525/525 [==============================] - 121s 230ms/step - loss: 0.0127 - acc: 0.9961 - val_loss: 0.0314 - val_acc: 0.9910\n",
      "Epoch 41/60\n",
      "525/525 [==============================] - 128s 244ms/step - loss: 0.0116 - acc: 0.9963 - val_loss: 0.0538 - val_acc: 0.9884\n",
      "Epoch 42/60\n",
      "525/525 [==============================] - 120s 229ms/step - loss: 0.0104 - acc: 0.9967 - val_loss: 0.0299 - val_acc: 0.9920\n",
      "Epoch 43/60\n",
      "525/525 [==============================] - 117s 224ms/step - loss: 0.0099 - acc: 0.9969 - val_loss: 0.0228 - val_acc: 0.9940\n",
      "Epoch 44/60\n",
      "525/525 [==============================] - 116s 220ms/step - loss: 0.0094 - acc: 0.9975 - val_loss: 0.0199 - val_acc: 0.9945\n",
      "Epoch 45/60\n",
      "525/525 [==============================] - 103s 197ms/step - loss: 0.0110 - acc: 0.9964 - val_loss: 0.0318 - val_acc: 0.9930\n",
      "Epoch 46/60\n",
      "525/525 [==============================] - 112s 213ms/step - loss: 0.0084 - acc: 0.9976 - val_loss: 0.0306 - val_acc: 0.9924\n",
      "Epoch 47/60\n",
      "525/525 [==============================] - 103s 196ms/step - loss: 0.0120 - acc: 0.9962 - val_loss: 0.0377 - val_acc: 0.9916\n",
      "Epoch 48/60\n",
      "525/525 [==============================] - 104s 197ms/step - loss: 0.0097 - acc: 0.9966 - val_loss: 0.0361 - val_acc: 0.9908\n",
      "Epoch 49/60\n",
      "525/525 [==============================] - 111s 211ms/step - loss: 0.0086 - acc: 0.9976 - val_loss: 0.0239 - val_acc: 0.9928\n",
      "Epoch 50/60\n",
      "525/525 [==============================] - 104s 198ms/step - loss: 0.0109 - acc: 0.9965 - val_loss: 0.0317 - val_acc: 0.9929\n",
      "Epoch 51/60\n",
      "525/525 [==============================] - 103s 197ms/step - loss: 0.0091 - acc: 0.9971 - val_loss: 0.0239 - val_acc: 0.9938\n",
      "Epoch 52/60\n",
      "525/525 [==============================] - 103s 196ms/step - loss: 0.0082 - acc: 0.9975 - val_loss: 0.0244 - val_acc: 0.9940\n",
      "Epoch 53/60\n",
      "525/525 [==============================] - 105s 200ms/step - loss: 0.0089 - acc: 0.9974 - val_loss: 0.0234 - val_acc: 0.9932\n",
      "Epoch 54/60\n",
      "525/525 [==============================] - 104s 197ms/step - loss: 0.0075 - acc: 0.9974 - val_loss: 0.0316 - val_acc: 0.9932\n",
      "Epoch 55/60\n",
      "525/525 [==============================] - 103s 196ms/step - loss: 0.0107 - acc: 0.9968 - val_loss: 0.0393 - val_acc: 0.9908\n",
      "Epoch 56/60\n",
      "525/525 [==============================] - 115s 219ms/step - loss: 0.0072 - acc: 0.9979 - val_loss: 0.0316 - val_acc: 0.9924\n",
      "Epoch 57/60\n",
      "525/525 [==============================] - 120s 229ms/step - loss: 0.0117 - acc: 0.9965 - val_loss: 0.0380 - val_acc: 0.9916\n",
      "Epoch 58/60\n",
      "525/525 [==============================] - 117s 223ms/step - loss: 0.0096 - acc: 0.9973 - val_loss: 0.0355 - val_acc: 0.9921\n",
      "Epoch 59/60\n",
      "525/525 [==============================] - 117s 223ms/step - loss: 0.0088 - acc: 0.9976 - val_loss: 0.0216 - val_acc: 0.9941\n",
      "Epoch 60/60\n",
      "525/525 [==============================] - 119s 226ms/step - loss: 0.0079 - acc: 0.9975 - val_loss: 0.0256 - val_acc: 0.9938\n"
     ]
    }
   ],
   "source": [
    "# Model Training\n",
    "history = model.fit_generator(train_gen, \n",
    "                epochs=epochs, \n",
    "                steps_per_epoch=X_train.shape[0]//batch_size,\n",
    "                validation_data=test_gen,\n",
    "                validation_steps=X_test.shape[0]//batch_size)"
   ]
  },
  {
   "cell_type": "code",
   "execution_count": 41,
   "metadata": {},
   "outputs": [],
   "source": [
    "model.save(\"./models/model_keras1.h5\")"
   ]
  },
  {
   "cell_type": "code",
   "execution_count": 42,
   "metadata": {},
   "outputs": [
    {
     "name": "stdout",
     "output_type": "stream",
     "text": [
      "28000/28000 [==============================] - 36s 1ms/step\n"
     ]
    }
   ],
   "source": [
    "pred = model.predict_classes(test_x, verbose=1)"
   ]
  },
  {
   "cell_type": "code",
   "execution_count": 50,
   "metadata": {},
   "outputs": [
    {
     "data": {
      "text/html": [
       "<div>\n",
       "<style scoped>\n",
       "    .dataframe tbody tr th:only-of-type {\n",
       "        vertical-align: middle;\n",
       "    }\n",
       "\n",
       "    .dataframe tbody tr th {\n",
       "        vertical-align: top;\n",
       "    }\n",
       "\n",
       "    .dataframe thead th {\n",
       "        text-align: right;\n",
       "    }\n",
       "</style>\n",
       "<table border=\"1\" class=\"dataframe\">\n",
       "  <thead>\n",
       "    <tr style=\"text-align: right;\">\n",
       "      <th></th>\n",
       "      <th>ImageId</th>\n",
       "      <th>Label</th>\n",
       "    </tr>\n",
       "  </thead>\n",
       "  <tbody>\n",
       "    <tr>\n",
       "      <th>0</th>\n",
       "      <td>1</td>\n",
       "      <td>2</td>\n",
       "    </tr>\n",
       "    <tr>\n",
       "      <th>1</th>\n",
       "      <td>2</td>\n",
       "      <td>0</td>\n",
       "    </tr>\n",
       "    <tr>\n",
       "      <th>2</th>\n",
       "      <td>3</td>\n",
       "      <td>9</td>\n",
       "    </tr>\n",
       "    <tr>\n",
       "      <th>3</th>\n",
       "      <td>4</td>\n",
       "      <td>0</td>\n",
       "    </tr>\n",
       "    <tr>\n",
       "      <th>4</th>\n",
       "      <td>5</td>\n",
       "      <td>3</td>\n",
       "    </tr>\n",
       "  </tbody>\n",
       "</table>\n",
       "</div>"
      ],
      "text/plain": [
       "   ImageId  Label\n",
       "0        1      2\n",
       "1        2      0\n",
       "2        3      9\n",
       "3        4      0\n",
       "4        5      3"
      ]
     },
     "execution_count": 50,
     "metadata": {},
     "output_type": "execute_result"
    }
   ],
   "source": [
    "sub = pd.read_csv('./data/sample_submission.csv')\n",
    "sub['Label'] = pred\n",
    "sub.to_csv(\"./results/CNN_keras_sub3.csv\", index=False)\n",
    "sub.head(5)"
   ]
  },
  {
   "cell_type": "code",
   "execution_count": 44,
   "metadata": {},
   "outputs": [],
   "source": [
    "res = pd.read_csv('./result.csv')"
   ]
  },
  {
   "cell_type": "code",
   "execution_count": 45,
   "metadata": {},
   "outputs": [
    {
     "data": {
      "text/html": [
       "<div>\n",
       "<style scoped>\n",
       "    .dataframe tbody tr th:only-of-type {\n",
       "        vertical-align: middle;\n",
       "    }\n",
       "\n",
       "    .dataframe tbody tr th {\n",
       "        vertical-align: top;\n",
       "    }\n",
       "\n",
       "    .dataframe thead th {\n",
       "        text-align: right;\n",
       "    }\n",
       "</style>\n",
       "<table border=\"1\" class=\"dataframe\">\n",
       "  <thead>\n",
       "    <tr style=\"text-align: right;\">\n",
       "      <th></th>\n",
       "      <th>ImageId</th>\n",
       "      <th>Label</th>\n",
       "    </tr>\n",
       "  </thead>\n",
       "  <tbody>\n",
       "    <tr>\n",
       "      <th>0</th>\n",
       "      <td>1</td>\n",
       "      <td>2</td>\n",
       "    </tr>\n",
       "    <tr>\n",
       "      <th>1</th>\n",
       "      <td>2</td>\n",
       "      <td>0</td>\n",
       "    </tr>\n",
       "    <tr>\n",
       "      <th>2</th>\n",
       "      <td>3</td>\n",
       "      <td>9</td>\n",
       "    </tr>\n",
       "    <tr>\n",
       "      <th>3</th>\n",
       "      <td>4</td>\n",
       "      <td>9</td>\n",
       "    </tr>\n",
       "    <tr>\n",
       "      <th>4</th>\n",
       "      <td>5</td>\n",
       "      <td>3</td>\n",
       "    </tr>\n",
       "  </tbody>\n",
       "</table>\n",
       "</div>"
      ],
      "text/plain": [
       "   ImageId  Label\n",
       "0        1      2\n",
       "1        2      0\n",
       "2        3      9\n",
       "3        4      9\n",
       "4        5      3"
      ]
     },
     "execution_count": 45,
     "metadata": {},
     "output_type": "execute_result"
    }
   ],
   "source": [
    "res.head(5)"
   ]
  },
  {
   "cell_type": "code",
   "execution_count": 51,
   "metadata": {},
   "outputs": [
    {
     "name": "stdout",
     "output_type": "stream",
     "text": [
      "sub shape is: (28000, 2)\n"
     ]
    }
   ],
   "source": [
    "print(\"sub shape is: \" + str(sub.shape))"
   ]
  },
  {
   "cell_type": "code",
   "execution_count": 49,
   "metadata": {},
   "outputs": [
    {
     "name": "stdout",
     "output_type": "stream",
     "text": [
      "res shape is: (28000, 2)\n"
     ]
    }
   ],
   "source": [
    "print('res shape is: ' + str(res.shape))"
   ]
  },
  {
   "cell_type": "code",
   "execution_count": null,
   "metadata": {},
   "outputs": [],
   "source": []
  }
 ],
 "metadata": {
  "kernelspec": {
   "display_name": "Python 3",
   "language": "python",
   "name": "python3"
  },
  "language_info": {
   "codemirror_mode": {
    "name": "ipython",
    "version": 3
   },
   "file_extension": ".py",
   "mimetype": "text/x-python",
   "name": "python",
   "nbconvert_exporter": "python",
   "pygments_lexer": "ipython3",
   "version": "3.7.1"
  }
 },
 "nbformat": 4,
 "nbformat_minor": 4
}
