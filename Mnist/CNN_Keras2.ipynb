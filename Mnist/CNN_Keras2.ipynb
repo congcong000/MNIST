{
 "cells": [
  {
   "cell_type": "code",
   "execution_count": 1,
   "metadata": {},
   "outputs": [
    {
     "name": "stderr",
     "output_type": "stream",
     "text": [
      "Using TensorFlow backend.\n"
     ]
    }
   ],
   "source": [
    "import tensorflow as tf\n",
    "import keras\n",
    "import pandas as pd\n",
    "import numpy as np\n",
    "from keras.models import Sequential, load_model\n",
    "from keras.layers import Dense, Conv2D, Activation, MaxPool2D, Flatten, Dropout\n",
    "from keras.callbacks import EarlyStopping\n",
    "from keras.optimizers import adam\n",
    "from matplotlib import pyplot as plt"
   ]
  },
  {
   "cell_type": "code",
   "execution_count": 2,
   "metadata": {},
   "outputs": [],
   "source": [
    "def loadTrainData():\n",
    "    train_data = pd.read_csv('./digit_train.csv')\n",
    "    x_train = train_data.values[:, 1:]\n",
    "    y_train = train_data.values[:, 0]\n",
    "    x_train = x_train.reshape(x_train.shape[0], 28, 28, 1)\n",
    "    x_train = x_train/255\n",
    "    y = np.zeros((y_train.shape[0], 10))\n",
    "    for i in range(y_train.shape[0]):\n",
    "        y[i][y_train[i]] = 1\n",
    "    return x_train, y"
   ]
  },
  {
   "cell_type": "code",
   "execution_count": 3,
   "metadata": {},
   "outputs": [],
   "source": [
    "def loadTestData():\n",
    "    test_data = pd.read_csv('./digit_test.csv')\n",
    "    x_test = test_data.values[:]\n",
    "    x_test = x_test.reshape(x_test.shape[0], 28, 28, 1)\n",
    "    x_test = x_test/255\n",
    "    return x_test\n",
    "    "
   ]
  },
  {
   "cell_type": "code",
   "execution_count": 4,
   "metadata": {},
   "outputs": [],
   "source": [
    "# 利用keras训练模型\n",
    "def train_model(x_train, y_train):\n",
    "    model = Sequential()\n",
    "    \n",
    "    model.add(Conv2D(input_shape=(28, 28, 1), kernel_size=(3, 3), filters=32, padding='same', activation='relu'))\n",
    "    model.add(Conv2D(kernel_size=(3, 3), filters=32, padding='same', activation='relu'))\n",
    "    model.add(MaxPool2D(pool_size=(2, 2), strides=(2, 2)))\n",
    "    model.add(Dropout(0.25))\n",
    "    model.add(Flatten())\n",
    "    model.add(Dense(128, activation='relu'))\n",
    "    model.add(Dropout(0.5))\n",
    "    model.add(Dense(10, activation='softmax'))\n",
    "    \n",
    "    \n",
    "    ad = keras.optimizers.Adam(lr=0.005, beta_1=0.9, beta_2=0.999, epsilon=1e-08)\n",
    "    model.compile(loss='categorical_crossentropy', optimizer=ad, metrics=['accuracy'])\n",
    "    early_stopping = EarlyStopping(monitor='acc', patience=2)\n",
    "    model.fit(x_train, y_train, epochs=50, batch_size=2000, validation_split=0.2, callbacks=[early_stopping])\n",
    "\n",
    "    model.save('./my_model2.h5')"
   ]
  },
  {
   "cell_type": "code",
   "execution_count": 5,
   "metadata": {},
   "outputs": [],
   "source": [
    "def predict():\n",
    "    x_test = loadTestData()\n",
    "    model_predict = load_model('./my_model2.h5')\n",
    "    result = model_predict.predict(x_test, batch_size=1000)\n",
    "    final_result = np.zeros(result.shape[0])\n",
    "    for i in range(result.shape[0]):\n",
    "        for j in range(result.shape[1]):\n",
    "            if result[i][j] > 0.5:\n",
    "                final_result[i] = j\n",
    "    return final_result"
   ]
  },
  {
   "cell_type": "code",
   "execution_count": 6,
   "metadata": {},
   "outputs": [],
   "source": [
    "def strat_train():\n",
    "    x_train, y_train = loadTrainData()\n",
    "    train_model(x_train, y_train)"
   ]
  },
  {
   "cell_type": "code",
   "execution_count": 7,
   "metadata": {},
   "outputs": [],
   "source": [
    "def save_result(final_result):\n",
    "    print(final_result.shape[0])\n",
    "    x = range(1, final_result.shape[0]+1)\n",
    "    DataFrame = pd.DataFrame({'ImageId': x, 'Label': final_result.astype(int)})\n",
    "    DataFrame.to_csv('result.csv', index=False, sep=',')\n",
    "    "
   ]
  },
  {
   "cell_type": "code",
   "execution_count": 8,
   "metadata": {},
   "outputs": [
    {
     "name": "stdout",
     "output_type": "stream",
     "text": [
      "Train on 33600 samples, validate on 8400 samples\n",
      "Epoch 1/50\n",
      "33600/33600 [==============================] - 34s 1ms/step - loss: 0.9091 - acc: 0.7101 - val_loss: 0.2314 - val_acc: 0.9298\n",
      "Epoch 2/50\n",
      "33600/33600 [==============================] - 33s 970us/step - loss: 0.2405 - acc: 0.9291 - val_loss: 0.1101 - val_acc: 0.9662\n",
      "Epoch 3/50\n",
      "33600/33600 [==============================] - 36s 1ms/step - loss: 0.1394 - acc: 0.9586 - val_loss: 0.0790 - val_acc: 0.9742\n",
      "Epoch 4/50\n",
      "33600/33600 [==============================] - 36s 1ms/step - loss: 0.1020 - acc: 0.9697 - val_loss: 0.0672 - val_acc: 0.9785\n",
      "Epoch 5/50\n",
      "33600/33600 [==============================] - 35s 1ms/step - loss: 0.0828 - acc: 0.9748 - val_loss: 0.0555 - val_acc: 0.9815\n",
      "Epoch 6/50\n",
      "33600/33600 [==============================] - 33s 977us/step - loss: 0.0688 - acc: 0.9791 - val_loss: 0.0514 - val_acc: 0.9844\n",
      "Epoch 7/50\n",
      "33600/33600 [==============================] - 33s 977us/step - loss: 0.0598 - acc: 0.9821 - val_loss: 0.0482 - val_acc: 0.9845\n",
      "Epoch 8/50\n",
      "33600/33600 [==============================] - 33s 978us/step - loss: 0.0526 - acc: 0.9838 - val_loss: 0.0450 - val_acc: 0.9857\n",
      "Epoch 9/50\n",
      "33600/33600 [==============================] - 33s 974us/step - loss: 0.0489 - acc: 0.9846 - val_loss: 0.0460 - val_acc: 0.9863\n",
      "Epoch 10/50\n",
      "33600/33600 [==============================] - 33s 973us/step - loss: 0.0421 - acc: 0.9861 - val_loss: 0.0414 - val_acc: 0.9876\n",
      "Epoch 11/50\n",
      "33600/33600 [==============================] - 33s 970us/step - loss: 0.0388 - acc: 0.9879 - val_loss: 0.0424 - val_acc: 0.9879\n",
      "Epoch 12/50\n",
      "33600/33600 [==============================] - 33s 968us/step - loss: 0.0346 - acc: 0.9887 - val_loss: 0.0420 - val_acc: 0.9886\n",
      "Epoch 13/50\n",
      "33600/33600 [==============================] - 33s 970us/step - loss: 0.0337 - acc: 0.9891 - val_loss: 0.0431 - val_acc: 0.9877\n",
      "Epoch 14/50\n",
      "33600/33600 [==============================] - 33s 976us/step - loss: 0.0288 - acc: 0.9905 - val_loss: 0.0422 - val_acc: 0.9887\n",
      "Epoch 15/50\n",
      "33600/33600 [==============================] - 33s 972us/step - loss: 0.0283 - acc: 0.9905 - val_loss: 0.0424 - val_acc: 0.9887\n",
      "Epoch 16/50\n",
      "33600/33600 [==============================] - 33s 991us/step - loss: 0.0272 - acc: 0.9906 - val_loss: 0.0403 - val_acc: 0.9889\n",
      "Epoch 17/50\n",
      "33600/33600 [==============================] - 35s 1ms/step - loss: 0.0281 - acc: 0.9904 - val_loss: 0.0402 - val_acc: 0.9889\n",
      "Epoch 18/50\n",
      "33600/33600 [==============================] - 35s 1ms/step - loss: 0.0250 - acc: 0.9912 - val_loss: 0.0432 - val_acc: 0.9893\n",
      "Epoch 19/50\n",
      "33600/33600 [==============================] - 37s 1ms/step - loss: 0.0262 - acc: 0.9917 - val_loss: 0.0397 - val_acc: 0.9890\n",
      "Epoch 20/50\n",
      "33600/33600 [==============================] - 43s 1ms/step - loss: 0.0239 - acc: 0.9922 - val_loss: 0.0433 - val_acc: 0.9885\n",
      "Epoch 21/50\n",
      "33600/33600 [==============================] - 39s 1ms/step - loss: 0.0228 - acc: 0.9926 - val_loss: 0.0413 - val_acc: 0.9895\n",
      "Epoch 22/50\n",
      "33600/33600 [==============================] - 41s 1ms/step - loss: 0.0199 - acc: 0.9932 - val_loss: 0.0410 - val_acc: 0.9899\n",
      "Epoch 23/50\n",
      "33600/33600 [==============================] - 37s 1ms/step - loss: 0.0198 - acc: 0.9930 - val_loss: 0.0404 - val_acc: 0.9900\n",
      "Epoch 24/50\n",
      "33600/33600 [==============================] - 34s 1ms/step - loss: 0.0185 - acc: 0.9933 - val_loss: 0.0450 - val_acc: 0.9902\n",
      "Epoch 25/50\n",
      "33600/33600 [==============================] - 35s 1ms/step - loss: 0.0185 - acc: 0.9940 - val_loss: 0.0422 - val_acc: 0.9895\n",
      "Epoch 26/50\n",
      "33600/33600 [==============================] - 37s 1ms/step - loss: 0.0196 - acc: 0.9934 - val_loss: 0.0410 - val_acc: 0.9883\n",
      "Epoch 27/50\n",
      "33600/33600 [==============================] - 33s 995us/step - loss: 0.0185 - acc: 0.9936 - val_loss: 0.0476 - val_acc: 0.9896\n",
      "28000\n",
      "Finished\n"
     ]
    }
   ],
   "source": [
    "strat_train()\n",
    "final_result = predict()\n",
    "save_result(final_result)\n",
    "print('Finished')"
   ]
  },
  {
   "cell_type": "code",
   "execution_count": null,
   "metadata": {},
   "outputs": [],
   "source": []
  }
 ],
 "metadata": {
  "kernelspec": {
   "display_name": "Python 3",
   "language": "python",
   "name": "python3"
  },
  "language_info": {
   "codemirror_mode": {
    "name": "ipython",
    "version": 3
   },
   "file_extension": ".py",
   "mimetype": "text/x-python",
   "name": "python",
   "nbconvert_exporter": "python",
   "pygments_lexer": "ipython3",
   "version": "3.7.1"
  }
 },
 "nbformat": 4,
 "nbformat_minor": 2
}
